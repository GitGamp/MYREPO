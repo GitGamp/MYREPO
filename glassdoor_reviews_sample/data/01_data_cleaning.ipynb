{
 "cells": [
  {
   "cell_type": "code",
   "execution_count": null,
   "id": "4187f02b",
   "metadata": {},
   "outputs": [],
   "source": [
    "import pandas as pd\n",
    "\n",
    "# Load your raw file (adjust filename if needed)\n",
    "df = pd.read_csv('../data/glassdoor_sample_former_employees_100k.csv')\n",
    "print('Shape: ', df.shape)\n"
   ]
  },
  {
   "cell_type": "markdown",
   "id": "6226d898",
   "metadata": {},
   "source": [
    "- Data Profiling"
   ]
  },
  {
   "cell_type": "code",
   "execution_count": null,
   "id": "053b4bb5",
   "metadata": {},
   "outputs": [],
   "source": [
    "# Check overall dataset\n",
    "print(df.columns)\n",
    "print('DATA TYPES: ')\n",
    "print(df.dtypes.sort_values(ascending=False))\n",
    "print('UNIQUE VALUES: ')\n",
    "print(df.nunique().sort_values(ascending=False))\n",
    "print('MISSING VALUES: ')\n",
    "print(df.isna().sum().sort_values(ascending=False))\n",
    "df.describe()"
   ]
  },
  {
   "cell_type": "markdown",
   "id": "5978ba5f",
   "metadata": {},
   "source": [
    "- Data Cleaning"
   ]
  },
  {
   "cell_type": "code",
   "execution_count": null,
   "id": "4e626f4a",
   "metadata": {},
   "outputs": [],
   "source": [
    "# Drop empty columns 'advice' and 'index'\n",
    "drop_cols = df.columns[[5,18]]\n",
    "df = df.drop(columns=drop_cols)\n",
    "print('Before: ', df.shape)\n",
    "\n",
    "# Drop duplicates\n",
    "df = df.drop_duplicates()\n",
    "print('After: ', df.shape)"
   ]
  },
  {
   "cell_type": "code",
   "execution_count": null,
   "id": "d24fb9d3",
   "metadata": {},
   "outputs": [],
   "source": [
    "# Rename columns\n",
    "\n",
    "df.rename(columns={\n",
    "    'rating': 'overall_rating',\n",
    "    'Career Opportunities': 'career_opportunities_rating',\n",
    "    'Compensation and Benefits': 'comp_benefits_rating',\n",
    "    'Culture & Values': 'culture_values_rating',\n",
    "    'Diversity & Inclusion': 'diversity_inclusion_rating',\n",
    "    'job': 'job_title',\n",
    "    'status': 'tenure_at_employer',\n",
    "    'date': 'review_date',\n",
    "    'title': 'review_title',\n",
    "    'Senior Management': 'senior_management_rating',\n",
    "    'Work/Life Balance': 'work_life_rating',\n",
    "    'Recommend': 'recommend',\n",
    "    'CEO Approval': 'ceo_approval',\n",
    "    'Business Outlook': 'business_outlook'\n",
    "}, inplace=True)\n"
   ]
  },
  {
   "cell_type": "code",
   "execution_count": null,
   "id": "74eab62d",
   "metadata": {},
   "outputs": [],
   "source": [
    "# Get rid of weird values\n",
    "ratings_cols = ['overall_rating', 'career_opportunities_rating', 'comp_benefits_rating', 'senior_management_rating', 'work_life_rating', 'culture_values_rating', 'diversity_inclusion_rating']\n",
    "weird_values = ['10u0eun', 'e0wqkp','s4o194', '156pzk5']\n",
    "\n",
    "for col in ratings_cols:\n",
    "    print('Before: ', f\"{col}: {df[col].unique()}\")\n",
    "\n",
    "df[ratings_cols] = df[ratings_cols].replace(weird_values, 0)\n",
    "\n",
    "# Check columns unique values\n",
    "for col in ratings_cols:\n",
    "    print('After: ', f\"{col}: {df[col].unique()}\")"
   ]
  },
  {
   "cell_type": "code",
   "execution_count": null,
   "id": "9408294f",
   "metadata": {},
   "outputs": [],
   "source": [
    "#Change around data types\n",
    "\n",
    "# Define columns to change\n",
    "cols_to_0 = ['diversity_inclusion_rating', 'culture_values_rating', 'work_life_rating', 'senior_management_rating', 'comp_benefits_rating', 'career_opportunities_rating']\n",
    "\n",
    "# Fill NaNs\n",
    "df[cols_to_0] = df[cols_to_0].fillna(0)\n",
    "\n",
    "# Change from object to str \n",
    "# Strip values ending in .0\n",
    "for col in cols_to_0:\n",
    "    df[col] = df[col].astype(str).str.replace(r'\\.0$', '', regex=True)\n",
    "\n",
    "# change from str to int\n",
    "df[cols_to_0] = df[cols_to_0].astype('int')\n",
    "\n",
    "# Define columns to change\n",
    "obj_cols = ['career_opportunities_rating', 'comp_benefits_rating', 'senior_management_rating', 'work_life_rating']\n",
    "\n",
    "# Change from object to int\n",
    "df[obj_cols] = df[obj_cols].astype('int')\n",
    "\n",
    "# float to int\n",
    "df['overall_rating'] = df['overall_rating'].astype('int')\n",
    "\n",
    "# object to string\n",
    "cols_to_string = ['review_title', 'firm_link', 'job_title', 'pros', 'cons', 'ceo_approval', 'tenure_at_employer']\n",
    "df[cols_to_string] = df[cols_to_string].astype('string')\n",
    "\n",
    "# object to date\n",
    "df['review_date'] = pd.to_datetime(df['review_date'], errors='coerce')\n",
    "\n",
    "# map business_outlook, recommend, ceo_approval values to labels\n",
    "opinion_map_cols = ['recommend', 'ceo_approval', 'business_outlook']\n",
    "new_vals = { 'v' : 'Positive', 'r': 'Mild', 'x': 'Negative', 'o' : 'No opinion'}\n",
    "\n",
    "df[opinion_map_cols] = df[opinion_map_cols].replace(new_vals)\n",
    "\n",
    "# Change from object to string\n",
    "df[opinion_map_cols] = df[opinion_map_cols].astype('string')"
   ]
  },
  {
   "cell_type": "code",
   "execution_count": null,
   "id": "921f2f78",
   "metadata": {},
   "outputs": [],
   "source": [
    "# Inspect feedback columns\n",
    "text_cols = ['pros', 'cons']\n",
    "df['pros'].unique()\n",
    "\n",
    "# Remove line breaks in pros & cons\n",
    "for col in text_cols:\n",
    "    df[col] = df[col].astype(str).str.replace(r'[\\r\\n]+', '. ', regex=True)\n"
   ]
  },
  {
   "cell_type": "code",
   "execution_count": null,
   "id": "665e79fe",
   "metadata": {},
   "outputs": [],
   "source": [
    "# Inspect tenure_at_employer\n",
    "df.dtypes\n",
    "\n",
    "df['tenure_at_employer'].unique()\n",
    "df['tenure_at_employer'].value_counts()\n",
    "\n",
    "# Re-bucket tenure lengths\n",
    "df['tenure_at_employer'] = df['tenure_at_employer'].replace({\n",
    "    'Former Employee' : 'Not provided',\n",
    "    'Former Employee, less than 1 year' : 'Under 1 year',\n",
    "    'Former Employee, more than 1 year' : '1-5 years',\n",
    "    'Former Employee, more than 3 years' : '1-5 years',\n",
    "    'Former Employee, more than 5 years' : '6-10 years',\n",
    "    'Former Employee, more than 8 years' : '6-10 years',\n",
    "    'Former Employee, more than 10 years' : 'Over 10 years'\n",
    "\n",
    "})\n",
    "\n",
    "# Set bucket sorting order\n",
    "tenure_order = [\n",
    "    'Under 1 year',\n",
    "    '1-5 years',\n",
    "    '6-10 years',\n",
    "    'Over 10 years',\n",
    "    'Not provided'\n",
    "]\n",
    "\n",
    "# Change to categorical to enforce sorting order\n",
    "df['tenure_at_employer'] = pd.Categorical(\n",
    "    df['tenure_at_employer'],\n",
    "    categories=tenure_order,\n",
    "    ordered=True\n",
    ")"
   ]
  },
  {
   "cell_type": "code",
   "execution_count": null,
   "id": "27cbe3ff",
   "metadata": {},
   "outputs": [],
   "source": [
    "# Inspect firm_link\n",
    "print(df['firm_link'].sample(10))\n",
    "\n",
    "# Extract company name\n",
    "df['firm_link'] = df['firm_link'].str.extract(r'Reviews/([^/]+?)-Reviews', expand=False)\n",
    "\n",
    "#Removed dashes between words\n",
    "df['firm_link'] = df['firm_link'].str.replace('-', ' ', regex=False)"
   ]
  },
  {
   "cell_type": "code",
   "execution_count": null,
   "id": "55b924ad",
   "metadata": {},
   "outputs": [],
   "source": [
    "df.to_csv('cleaned_glassdoor_sample_data.csv', index=False)\n",
    "\n",
    "cleaned_sample = pd.read_csv('cleaned_glassdoor_sample_data.csv')\n",
    "\n",
    "print(cleaned_sample.shape)\n",
    "\n",
    "cleaned_sample.head()\n"
   ]
  }
 ],
 "metadata": {
  "kernelspec": {
   "display_name": "Python 3",
   "language": "python",
   "name": "python3"
  },
  "language_info": {
   "codemirror_mode": {
    "name": "ipython",
    "version": 3
   },
   "file_extension": ".py",
   "mimetype": "text/x-python",
   "name": "python",
   "nbconvert_exporter": "python",
   "pygments_lexer": "ipython3",
   "version": "3.12.4"
  }
 },
 "nbformat": 4,
 "nbformat_minor": 5
}
