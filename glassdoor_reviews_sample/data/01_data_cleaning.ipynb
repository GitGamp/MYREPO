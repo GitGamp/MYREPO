{
 "cells": [
  {
   "cell_type": "code",
   "execution_count": null,
   "id": "4187f02b",
   "metadata": {},
   "outputs": [],
   "source": [
    "import pandas as pd\n",
    "import numpy as np\n",
    "\n",
    "# Load sample file\n",
    "df = pd.read_csv('../data/glassdoor_sample_former_employees_100k.csv')\n",
    "print('Shape before: ', df.shape)\n",
    "df.head()"
   ]
  },
  {
   "cell_type": "code",
   "execution_count": null,
   "id": "9bec2da2",
   "metadata": {},
   "outputs": [],
   "source": [
    "df.dtypes"
   ]
  },
  {
   "cell_type": "markdown",
   "id": "ab4f80da",
   "metadata": {},
   "source": [
    "#### Data Profiling"
   ]
  },
  {
   "cell_type": "markdown",
   "id": "567f56f3",
   "metadata": {},
   "source": [
    "- Temporary setting for column width "
   ]
  },
  {
   "cell_type": "code",
   "execution_count": null,
   "id": "c49bfaf5",
   "metadata": {},
   "outputs": [],
   "source": [
    "# ENABLE max column values display - for long text values\n",
    "pd.set_option('display.max_colwidth', None)"
   ]
  },
  {
   "cell_type": "markdown",
   "id": "454aa853",
   "metadata": {},
   "source": [
    "- Empty columns"
   ]
  },
  {
   "cell_type": "code",
   "execution_count": null,
   "id": "3c07cfee",
   "metadata": {},
   "outputs": [],
   "source": [
    "# Find entirely empty columns\n",
    "df.isna().sum().sort_values(ascending=False)"
   ]
  },
  {
   "cell_type": "markdown",
   "id": "74f96331",
   "metadata": {},
   "source": [
    "- Duplicates"
   ]
  },
  {
   "cell_type": "code",
   "execution_count": null,
   "id": "aa358c4a",
   "metadata": {},
   "outputs": [],
   "source": [
    "# Find entire row duplicates\n",
    "duplicates = df.duplicated().sum()\n",
    "print('Duplicate rows: ', duplicates)"
   ]
  },
  {
   "cell_type": "markdown",
   "id": "bd78f3e7",
   "metadata": {},
   "source": [
    "- Column names"
   ]
  },
  {
   "cell_type": "code",
   "execution_count": null,
   "id": "c51f454c",
   "metadata": {},
   "outputs": [],
   "source": [
    "df.columns.to_list()"
   ]
  },
  {
   "cell_type": "code",
   "execution_count": null,
   "id": "d24fb9d3",
   "metadata": {},
   "outputs": [],
   "source": [
    "# Columns renamed prior to further profiling\n",
    "\n",
    "print('Original columns: ', df.columns.to_list())\n",
    "\n",
    "df.rename(columns={\n",
    "    'rating': 'overall_rating',\n",
    "    'Career Opportunities': 'career_opportunities_rating',\n",
    "    'Compensation and Benefits': 'comp_benefits_rating',\n",
    "    'Culture & Values': 'culture_values_rating',\n",
    "    'Diversity & Inclusion': 'diversity_inclusion_rating',\n",
    "    'job': 'job_title',\n",
    "    'status': 'tenure_at_employer',\n",
    "    'date': 'review_date',\n",
    "    'title': 'review_title',\n",
    "    'Senior Management': 'senior_management_rating',\n",
    "    'Work/Life Balance': 'work_life_rating',\n",
    "    'Recommend': 'recommend',\n",
    "    'CEO Approval': 'ceo_approval',\n",
    "    'Business Outlook': 'business_outlook',\n",
    "    'firm_link' : 'company'\n",
    "}, inplace=True)\n",
    "\n",
    "print('New columns: ', df.columns.to_list())"
   ]
  },
  {
   "cell_type": "markdown",
   "id": "da419606",
   "metadata": {},
   "source": [
    "- Columns that should be numeric dtype"
   ]
  },
  {
   "cell_type": "code",
   "execution_count": null,
   "id": "d03f1b0b",
   "metadata": {},
   "outputs": [],
   "source": [
    "all_ratings_cols = ['overall_rating', 'diversity_inclusion_rating', 'culture_values_rating','work_life_rating', 'senior_management_rating', 'comp_benefits_rating', 'career_opportunities_rating']\n",
    "df[all_ratings_cols].dtypes"
   ]
  },
  {
   "cell_type": "markdown",
   "id": "28eb72ad",
   "metadata": {},
   "source": [
    "- Columns that should be datetime dtype"
   ]
  },
  {
   "cell_type": "code",
   "execution_count": null,
   "id": "9b14e466",
   "metadata": {},
   "outputs": [],
   "source": [
    "df['review_date'].dtypes"
   ]
  },
  {
   "cell_type": "markdown",
   "id": "5a3120d3",
   "metadata": {},
   "source": [
    "- Columns that should be string dtype"
   ]
  },
  {
   "cell_type": "code",
   "execution_count": null,
   "id": "cdc195ca",
   "metadata": {},
   "outputs": [],
   "source": [
    "# Inspect columns that should be string dtype\n",
    "all_text_cols = ['review_title', 'company', 'job_title', 'pros', 'cons', 'ceo_approval', 'tenure_at_employer','recommend','business_outlook']\n",
    "df[all_text_cols].dtypes"
   ]
  },
  {
   "cell_type": "markdown",
   "id": "4d1f62dd",
   "metadata": {},
   "source": [
    "- 'pros' & 'cons' columns"
   ]
  },
  {
   "cell_type": "code",
   "execution_count": null,
   "id": "921f2f78",
   "metadata": {},
   "outputs": [],
   "source": [
    "## Inspect Pros and Cons coment columns\n",
    "comment_cols = ['pros', 'cons']\n",
    "df[comment_cols]"
   ]
  },
  {
   "cell_type": "markdown",
   "id": "3891fcfc",
   "metadata": {},
   "source": [
    "- ratings columns"
   ]
  },
  {
   "cell_type": "code",
   "execution_count": null,
   "id": "e90c15a8",
   "metadata": {},
   "outputs": [],
   "source": [
    "# Inspect ratings columns\n",
    "float_ratings = ['overall_rating', 'diversity_inclusion_rating', 'culture_values_rating']\n",
    "print(df[float_ratings])\n",
    "\n",
    "obj_ratings = ['work_life_rating', 'senior_management_rating', 'comp_benefits_rating', 'career_opportunities_rating']\n",
    "print(df[obj_ratings])\n",
    "\n",
    "for col in (float_ratings):\n",
    "    print('FLOAT RATINGS: ', f\"{col}: {df[col].unique()}\") \n",
    "\n",
    "\n",
    "for col in (obj_ratings):\n",
    "    print('OBJECT RATINGS: ', f\"{col}: {df[col].unique()}\")"
   ]
  },
  {
   "cell_type": "markdown",
   "id": "15f609c0",
   "metadata": {},
   "source": [
    "- 'recommend', 'ceo_approval', 'business_outlook' columns"
   ]
  },
  {
   "cell_type": "code",
   "execution_count": null,
   "id": "ae0baf98",
   "metadata": {},
   "outputs": [],
   "source": [
    "## Inspect recommend|ceo_approval|business_outlook columns\n",
    "opinion_map_cols = ['recommend', 'ceo_approval', 'business_outlook']\n",
    "df[opinion_map_cols]"
   ]
  },
  {
   "cell_type": "markdown",
   "id": "89ca820a",
   "metadata": {},
   "source": [
    "- 'tenure_at_employer' column"
   ]
  },
  {
   "cell_type": "code",
   "execution_count": null,
   "id": "665e79fe",
   "metadata": {},
   "outputs": [],
   "source": [
    "## Inspect tenure column\n",
    "print('Dtype: ', df['tenure_at_employer'].dtypes)\n",
    "\n",
    "df['tenure_at_employer'].value_counts()"
   ]
  },
  {
   "cell_type": "markdown",
   "id": "f1ca5964",
   "metadata": {},
   "source": [
    "- company column"
   ]
  },
  {
   "cell_type": "code",
   "execution_count": null,
   "id": "bc07d215",
   "metadata": {},
   "outputs": [],
   "source": [
    "## Inspect company column\n",
    "df['company']"
   ]
  },
  {
   "cell_type": "markdown",
   "id": "7be36f19",
   "metadata": {},
   "source": [
    "#### Data Cleaning"
   ]
  },
  {
   "cell_type": "markdown",
   "id": "99f5ac3b",
   "metadata": {},
   "source": [
    "- Drop empty columns"
   ]
  },
  {
   "cell_type": "code",
   "execution_count": null,
   "id": "0443dc6f",
   "metadata": {},
   "outputs": [],
   "source": [
    "# Drop empty \"index\" column\n",
    "df = df.drop(columns='index')\n",
    "\n",
    "# Drop 'advice' column\n",
    "df = df.drop(columns='advice')\n",
    "df.columns\n",
    "print(df.shape)"
   ]
  },
  {
   "cell_type": "markdown",
   "id": "82f37dd8",
   "metadata": {},
   "source": [
    "- Drop duplicates"
   ]
  },
  {
   "cell_type": "code",
   "execution_count": null,
   "id": "98407898",
   "metadata": {},
   "outputs": [],
   "source": [
    "# Drop duplicates\n",
    "df = df.drop_duplicates()\n",
    "df.shape"
   ]
  },
  {
   "cell_type": "markdown",
   "id": "bc0a51ea",
   "metadata": {},
   "source": [
    "- Convert all text columns to string dtype"
   ]
  },
  {
   "cell_type": "code",
   "execution_count": null,
   "id": "9408294f",
   "metadata": {},
   "outputs": [],
   "source": [
    "# objects to string\n",
    "all_text_cols = ['review_title', 'company', 'job_title', 'pros', 'cons', 'ceo_approval', 'tenure_at_employer','recommend','business_outlook']\n",
    "\n",
    "df[all_text_cols] = df[all_text_cols].astype('string')\n",
    "\n",
    "# Verify dtype update to string\n",
    "df[all_text_cols].dtypes"
   ]
  },
  {
   "cell_type": "markdown",
   "id": "61dc34b4",
   "metadata": {},
   "source": [
    "- Ratings columns"
   ]
  },
  {
   "cell_type": "code",
   "execution_count": null,
   "id": "74eab62d",
   "metadata": {},
   "outputs": [],
   "source": [
    "# Get rid of non-numeric values in all ratings columns\n",
    "obj_ratings = ['work_life_rating', 'senior_management_rating', 'comp_benefits_rating', 'career_opportunities_rating']\n",
    "weird_values = ['10u0eun', 'e0wqkp','s4o194', '156pzk5']\n",
    "\n",
    "# Replace weird values with NaN\n",
    "df[obj_ratings] = df[obj_ratings].replace(weird_values, np.nan)\n",
    "\n",
    "\n",
    "# Check columns unique values\n",
    "for col in obj_ratings:\n",
    "    print('New values: ', f\"{col}: {df[col].unique()}\")\n"
   ]
  },
  {
   "cell_type": "code",
   "execution_count": null,
   "id": "e347ac1d",
   "metadata": {},
   "outputs": [],
   "source": [
    "obj_ratings = ['work_life_rating', 'senior_management_rating', 'comp_benefits_rating', 'career_opportunities_rating']\n",
    "\n",
    "# convert objects to floats\n",
    "df[obj_ratings] = df[obj_ratings].astype('float')\n",
    "\n",
    "for col in obj_ratings:\n",
    "    print('Unique values: '' ', f\"{col}: {df[col].unique()}\")\n",
    "\n",
    "df.info()\n",
    "\n",
    "## Keep ratings NaNs!!  These inidicate no response, not actually 0 \n",
    "# 'overall_rating' has no NaNs because mandatory"
   ]
  },
  {
   "cell_type": "markdown",
   "id": "0e4aa149",
   "metadata": {},
   "source": [
    "- DATE column"
   ]
  },
  {
   "cell_type": "code",
   "execution_count": null,
   "id": "aaf22e0c",
   "metadata": {},
   "outputs": [],
   "source": [
    "# object to date\n",
    "df['review_date'] = pd.to_datetime(df['review_date'], errors='coerce')\n",
    "\n",
    "# Confirm new datetime dtype\n",
    "df['review_date'].info()"
   ]
  },
  {
   "cell_type": "markdown",
   "id": "df81fcb7",
   "metadata": {},
   "source": [
    "- TEXT columns"
   ]
  },
  {
   "cell_type": "markdown",
   "id": "a760536d",
   "metadata": {},
   "source": [
    "- review_title"
   ]
  },
  {
   "cell_type": "code",
   "execution_count": null,
   "id": "6d2983f6",
   "metadata": {},
   "outputs": [],
   "source": [
    "# Capture # of nulls before changes\n",
    "print('Null before: ',df['review_title'].isna().sum())\n",
    "\n",
    "# Fill nulls with \"Not provided\"\n",
    "df['review_title'] = df['review_title'].fillna('Not provided')\n",
    "\n",
    "# Verify no more nulls\n",
    "print('Nulls after: ', df['review_title'].isna().sum())"
   ]
  },
  {
   "cell_type": "markdown",
   "id": "c97838a0",
   "metadata": {},
   "source": [
    "- business_outlook, recommend, ceo_approval columns"
   ]
  },
  {
   "cell_type": "code",
   "execution_count": null,
   "id": "f8077cee",
   "metadata": {},
   "outputs": [],
   "source": [
    "# map business_outlook, recommend, ceo_approval values to labels\n",
    "new_opp_vals = { 'v' : 'Positive', 'r': 'Mild', 'x': 'Negative', 'o' : 'No opinion'}\n",
    "df[opinion_map_cols] = df[opinion_map_cols].replace(new_opp_vals)\n",
    "\n",
    "# Verify changed values\n",
    "df[opinion_map_cols]"
   ]
  },
  {
   "cell_type": "markdown",
   "id": "379525e8",
   "metadata": {},
   "source": [
    "- tenure_at_employer column"
   ]
  },
  {
   "cell_type": "code",
   "execution_count": null,
   "id": "ede69fcb",
   "metadata": {},
   "outputs": [],
   "source": [
    "# Re-bucket tenure lengths\n",
    "df['tenure_at_employer'] = df['tenure_at_employer'].replace({\n",
    "    'Former Employee' : 'Not provided',\n",
    "    'Former Employee, less than 1 year' : 'Under 1 year',\n",
    "    'Former Employee, more than 1 year' : '1-5 years',\n",
    "    'Former Employee, more than 3 years' : '1-5 years',\n",
    "    'Former Employee, more than 5 years' : '6-10 years',\n",
    "    'Former Employee, more than 8 years' : '6-10 years',\n",
    "    'Former Employee, more than 10 years' : 'Over 10 years'\n",
    "\n",
    "})\n",
    "\n",
    "# Set bucket sorting order\n",
    "tenure_order = [\n",
    "    'Under 1 year',\n",
    "    '1-5 years',\n",
    "    '6-10 years',\n",
    "    'Over 10 years',\n",
    "    'Not provided'\n",
    "]\n",
    "\n",
    "# Change to categorical to enforce sorting order\n",
    "df['tenure_at_employer'] = pd.Categorical(\n",
    "    df['tenure_at_employer'],\n",
    "    categories=tenure_order,\n",
    "    ordered=True\n",
    ")"
   ]
  },
  {
   "cell_type": "markdown",
   "id": "54feb983",
   "metadata": {},
   "source": [
    "- company column"
   ]
  },
  {
   "cell_type": "code",
   "execution_count": null,
   "id": "27cbe3ff",
   "metadata": {},
   "outputs": [],
   "source": [
    "# Replace NaNs with \"Not Provided\"\n",
    "df['company'] = df['company'].fillna('Not provided')\n",
    "\n",
    "# Extract company name\n",
    "df['company'] = df['company'].str.extract(r'Reviews/([^/]+?)-Reviews', expand=False)\n",
    "\n",
    "# Remove dashes between words\n",
    "df['company'] = df['company'].str.replace('-', ' ', regex=False)\n",
    "\n",
    "# Inspect company\n",
    "df['company']"
   ]
  },
  {
   "cell_type": "markdown",
   "id": "fa4f6155",
   "metadata": {},
   "source": [
    "#### Revert any temporary settings"
   ]
  },
  {
   "cell_type": "code",
   "execution_count": null,
   "id": "55b924ad",
   "metadata": {},
   "outputs": [],
   "source": [
    "# END max column display\n",
    "pd.reset_option('display.max_colwidth')"
   ]
  },
  {
   "cell_type": "markdown",
   "id": "0449a5b6",
   "metadata": {},
   "source": [
    "#### Cleaned dataset"
   ]
  },
  {
   "cell_type": "code",
   "execution_count": null,
   "id": "15314b5f",
   "metadata": {},
   "outputs": [],
   "source": [
    "# Export to csv\n",
    "df.to_csv('cleaned_glassdoor_sample_data.csv', index=False)\n",
    "\n",
    "# Preview sample of new csv\n",
    "cleaned_sample = pd.read_csv('cleaned_glassdoor_sample_data.csv')\n",
    "print(cleaned_sample.shape)\n",
    "cleaned_sample.head()"
   ]
  }
 ],
 "metadata": {
  "kernelspec": {
   "display_name": "Python 3",
   "language": "python",
   "name": "python3"
  },
  "language_info": {
   "codemirror_mode": {
    "name": "ipython",
    "version": 3
   },
   "file_extension": ".py",
   "mimetype": "text/x-python",
   "name": "python",
   "nbconvert_exporter": "python",
   "pygments_lexer": "ipython3",
   "version": "3.12.4"
  }
 },
 "nbformat": 4,
 "nbformat_minor": 5
}
