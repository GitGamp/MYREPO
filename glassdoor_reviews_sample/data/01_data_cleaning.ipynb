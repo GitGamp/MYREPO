{
 "cells": [
  {
   "cell_type": "markdown",
   "id": "c82a06be",
   "metadata": {},
   "source": [
    "#### Load data"
   ]
  },
  {
   "cell_type": "code",
   "execution_count": 221,
   "id": "4187f02b",
   "metadata": {},
   "outputs": [
    {
     "name": "stdout",
     "output_type": "stream",
     "text": [
      "Shape before:  (100000, 19)\n"
     ]
    },
    {
     "data": {
      "text/html": [
       "<div>\n",
       "<style scoped>\n",
       "    .dataframe tbody tr th:only-of-type {\n",
       "        vertical-align: middle;\n",
       "    }\n",
       "\n",
       "    .dataframe tbody tr th {\n",
       "        vertical-align: top;\n",
       "    }\n",
       "\n",
       "    .dataframe thead th {\n",
       "        text-align: right;\n",
       "    }\n",
       "</style>\n",
       "<table border=\"1\" class=\"dataframe\">\n",
       "  <thead>\n",
       "    <tr style=\"text-align: right;\">\n",
       "      <th></th>\n",
       "      <th>rating</th>\n",
       "      <th>title</th>\n",
       "      <th>status</th>\n",
       "      <th>pros</th>\n",
       "      <th>cons</th>\n",
       "      <th>advice</th>\n",
       "      <th>Recommend</th>\n",
       "      <th>CEO Approval</th>\n",
       "      <th>Business Outlook</th>\n",
       "      <th>Career Opportunities</th>\n",
       "      <th>Compensation and Benefits</th>\n",
       "      <th>Senior Management</th>\n",
       "      <th>Work/Life Balance</th>\n",
       "      <th>Culture &amp; Values</th>\n",
       "      <th>Diversity &amp; Inclusion</th>\n",
       "      <th>firm_link</th>\n",
       "      <th>date</th>\n",
       "      <th>job</th>\n",
       "      <th>index</th>\n",
       "    </tr>\n",
       "  </thead>\n",
       "  <tbody>\n",
       "    <tr>\n",
       "      <th>0</th>\n",
       "      <td>3.0</td>\n",
       "      <td>Good</td>\n",
       "      <td>Former Employee</td>\n",
       "      <td>Schedule accommodation\\r\\nFree food during shift</td>\n",
       "      <td>Fast food and management was rough</td>\n",
       "      <td>NaN</td>\n",
       "      <td>o</td>\n",
       "      <td>o</td>\n",
       "      <td>o</td>\n",
       "      <td>3</td>\n",
       "      <td>3</td>\n",
       "      <td>3</td>\n",
       "      <td>5</td>\n",
       "      <td>3.0</td>\n",
       "      <td>4.0</td>\n",
       "      <td>Reviews/Chipotle-Reviews-E1370610.htm</td>\n",
       "      <td>Jul 18, 2022</td>\n",
       "      <td>Cashier</td>\n",
       "      <td>NaN</td>\n",
       "    </tr>\n",
       "    <tr>\n",
       "      <th>1</th>\n",
       "      <td>1.0</td>\n",
       "      <td>It's Only About Data</td>\n",
       "      <td>Former Employee, less than 1 year</td>\n",
       "      <td>The teachers at the school are great and really support each other during stressful times.</td>\n",
       "      <td>The school and the district has disappointing leadership who don't listen to the teachers and staff.\\r\\n\\r\\nCommunication is terrible. Emails are sent on weekends for work to be done before Monday. Instructions and expectations are unclear, and then employees are disciplined for not meeting expectations. Methods of communication do not show basic understanding of good leadership skills or even basic constructive communication.\\r\\n\\r\\nNo support from administration when there are problems or difficulties. Everything is about \"data\" that is neither accurate nor useful. Though the district and administrators at the school claim to care about putting students first, there is no part of their policies or actions that support students (or staff) above points of superfluous data collection or self protection.</td>\n",
       "      <td>NaN</td>\n",
       "      <td>x</td>\n",
       "      <td>o</td>\n",
       "      <td>x</td>\n",
       "      <td>2</td>\n",
       "      <td>2.0</td>\n",
       "      <td>1.0</td>\n",
       "      <td>1.0</td>\n",
       "      <td>1.0</td>\n",
       "      <td>NaN</td>\n",
       "      <td>Reviews/Manor-ISD-Reviews-E231745.htm</td>\n",
       "      <td>Jan 5, 2021</td>\n",
       "      <td>6th Grade ELA Teacher</td>\n",
       "      <td>NaN</td>\n",
       "    </tr>\n",
       "  </tbody>\n",
       "</table>\n",
       "</div>"
      ],
      "text/plain": [
       "   rating                 title                             status  \\\n",
       "0     3.0                  Good                    Former Employee   \n",
       "1     1.0  It's Only About Data  Former Employee, less than 1 year   \n",
       "\n",
       "                                                                                         pros  \\\n",
       "0                                            Schedule accommodation\\r\\nFree food during shift   \n",
       "1  The teachers at the school are great and really support each other during stressful times.   \n",
       "\n",
       "                                                                                                                                                                                                                                                                                                                                                                                                                                                                                                                                                                                                                                                                                                                                                                                                                                            cons  \\\n",
       "0                                                                                                                                                                                                                                                                                                                                                                                                                                                                                                                                                                                                                                                                                                                                                                                                             Fast food and management was rough   \n",
       "1  The school and the district has disappointing leadership who don't listen to the teachers and staff.\\r\\n\\r\\nCommunication is terrible. Emails are sent on weekends for work to be done before Monday. Instructions and expectations are unclear, and then employees are disciplined for not meeting expectations. Methods of communication do not show basic understanding of good leadership skills or even basic constructive communication.\\r\\n\\r\\nNo support from administration when there are problems or difficulties. Everything is about \"data\" that is neither accurate nor useful. Though the district and administrators at the school claim to care about putting students first, there is no part of their policies or actions that support students (or staff) above points of superfluous data collection or self protection.   \n",
       "\n",
       "   advice Recommend CEO Approval Business Outlook Career Opportunities  \\\n",
       "0     NaN         o            o                o                    3   \n",
       "1     NaN         x            o                x                    2   \n",
       "\n",
       "  Compensation and Benefits Senior Management Work/Life Balance  \\\n",
       "0                         3                 3                 5   \n",
       "1                       2.0               1.0               1.0   \n",
       "\n",
       "   Culture & Values  Diversity & Inclusion  \\\n",
       "0               3.0                    4.0   \n",
       "1               1.0                    NaN   \n",
       "\n",
       "                               firm_link           date  \\\n",
       "0  Reviews/Chipotle-Reviews-E1370610.htm  Jul 18, 2022    \n",
       "1  Reviews/Manor-ISD-Reviews-E231745.htm   Jan 5, 2021    \n",
       "\n",
       "                      job  index  \n",
       "0                 Cashier    NaN  \n",
       "1   6th Grade ELA Teacher    NaN  "
      ]
     },
     "execution_count": 221,
     "metadata": {},
     "output_type": "execute_result"
    }
   ],
   "source": [
    "import pandas as pd\n",
    "import numpy as np\n",
    "\n",
    "# Load sample file\n",
    "df = pd.read_csv('glassdoor_sample_former_employees_100k.csv')\n",
    "print('Shape before: ', df.shape)\n",
    "df.head(2)"
   ]
  },
  {
   "cell_type": "code",
   "execution_count": 222,
   "id": "9bec2da2",
   "metadata": {},
   "outputs": [
    {
     "data": {
      "text/plain": [
       "rating                       float64\n",
       "Diversity & Inclusion        float64\n",
       "Culture & Values             float64\n",
       "advice                       float64\n",
       "index                        float64\n",
       "pros                          object\n",
       "Recommend                     object\n",
       "CEO Approval                  object\n",
       "Business Outlook              object\n",
       "job                           object\n",
       "Compensation and Benefits     object\n",
       "Senior Management             object\n",
       "Work/Life Balance             object\n",
       "status                        object\n",
       "title                         object\n",
       "firm_link                     object\n",
       "date                          object\n",
       "cons                          object\n",
       "Career Opportunities          object\n",
       "dtype: object"
      ]
     },
     "execution_count": 222,
     "metadata": {},
     "output_type": "execute_result"
    }
   ],
   "source": [
    "df.dtypes.sort_values()"
   ]
  },
  {
   "cell_type": "markdown",
   "id": "ab4f80da",
   "metadata": {},
   "source": [
    "#### Data Cleaning"
   ]
  },
  {
   "cell_type": "markdown",
   "id": "454aa853",
   "metadata": {},
   "source": [
    "##### empty columns"
   ]
  },
  {
   "cell_type": "code",
   "execution_count": 223,
   "id": "c51f454c",
   "metadata": {},
   "outputs": [
    {
     "data": {
      "text/plain": [
       "['rating',\n",
       " 'title',\n",
       " 'status',\n",
       " 'pros',\n",
       " 'cons',\n",
       " 'advice',\n",
       " 'Recommend',\n",
       " 'CEO Approval',\n",
       " 'Business Outlook',\n",
       " 'Career Opportunities',\n",
       " 'Compensation and Benefits',\n",
       " 'Senior Management',\n",
       " 'Work/Life Balance',\n",
       " 'Culture & Values',\n",
       " 'Diversity & Inclusion',\n",
       " 'firm_link',\n",
       " 'date',\n",
       " 'job',\n",
       " 'index']"
      ]
     },
     "execution_count": 223,
     "metadata": {},
     "output_type": "execute_result"
    }
   ],
   "source": [
    "# Review column names\n",
    "df.columns.to_list()"
   ]
  },
  {
   "cell_type": "code",
   "execution_count": 224,
   "id": "3c07cfee",
   "metadata": {},
   "outputs": [
    {
     "data": {
      "text/plain": [
       "advice                       100000\n",
       "index                        100000\n",
       "Diversity & Inclusion         68340\n",
       "Culture & Values              24303\n",
       "Senior Management             22361\n",
       "Work/Life Balance             21357\n",
       "Compensation and Benefits     21165\n",
       "Career Opportunities          20800\n",
       "title                           314\n",
       "status                            0\n",
       "rating                            0\n",
       "CEO Approval                      0\n",
       "Business Outlook                  0\n",
       "cons                              0\n",
       "Recommend                         0\n",
       "pros                              0\n",
       "firm_link                         0\n",
       "date                              0\n",
       "job                               0\n",
       "dtype: int64"
      ]
     },
     "execution_count": 224,
     "metadata": {},
     "output_type": "execute_result"
    }
   ],
   "source": [
    "# Find entirely empty columns\n",
    "df.isna().sum().sort_values(ascending=False)"
   ]
  },
  {
   "cell_type": "code",
   "execution_count": 225,
   "id": "e54026ed",
   "metadata": {},
   "outputs": [
    {
     "data": {
      "text/html": [
       "<div>\n",
       "<style scoped>\n",
       "    .dataframe tbody tr th:only-of-type {\n",
       "        vertical-align: middle;\n",
       "    }\n",
       "\n",
       "    .dataframe tbody tr th {\n",
       "        vertical-align: top;\n",
       "    }\n",
       "\n",
       "    .dataframe thead th {\n",
       "        text-align: right;\n",
       "    }\n",
       "</style>\n",
       "<table border=\"1\" class=\"dataframe\">\n",
       "  <thead>\n",
       "    <tr style=\"text-align: right;\">\n",
       "      <th></th>\n",
       "      <th>rating</th>\n",
       "      <th>title</th>\n",
       "      <th>status</th>\n",
       "      <th>pros</th>\n",
       "      <th>cons</th>\n",
       "      <th>Recommend</th>\n",
       "      <th>CEO Approval</th>\n",
       "      <th>Business Outlook</th>\n",
       "      <th>Career Opportunities</th>\n",
       "      <th>Compensation and Benefits</th>\n",
       "      <th>Senior Management</th>\n",
       "      <th>Work/Life Balance</th>\n",
       "      <th>Culture &amp; Values</th>\n",
       "      <th>Diversity &amp; Inclusion</th>\n",
       "      <th>firm_link</th>\n",
       "      <th>date</th>\n",
       "      <th>job</th>\n",
       "      <th>index</th>\n",
       "    </tr>\n",
       "  </thead>\n",
       "  <tbody>\n",
       "    <tr>\n",
       "      <th>0</th>\n",
       "      <td>3.0</td>\n",
       "      <td>Good</td>\n",
       "      <td>Former Employee</td>\n",
       "      <td>Schedule accommodation\\r\\nFree food during shift</td>\n",
       "      <td>Fast food and management was rough</td>\n",
       "      <td>o</td>\n",
       "      <td>o</td>\n",
       "      <td>o</td>\n",
       "      <td>3</td>\n",
       "      <td>3</td>\n",
       "      <td>3</td>\n",
       "      <td>5</td>\n",
       "      <td>3.0</td>\n",
       "      <td>4.0</td>\n",
       "      <td>Reviews/Chipotle-Reviews-E1370610.htm</td>\n",
       "      <td>Jul 18, 2022</td>\n",
       "      <td>Cashier</td>\n",
       "      <td>NaN</td>\n",
       "    </tr>\n",
       "    <tr>\n",
       "      <th>1</th>\n",
       "      <td>1.0</td>\n",
       "      <td>It's Only About Data</td>\n",
       "      <td>Former Employee, less than 1 year</td>\n",
       "      <td>The teachers at the school are great and really support each other during stressful times.</td>\n",
       "      <td>The school and the district has disappointing leadership who don't listen to the teachers and staff.\\r\\n\\r\\nCommunication is terrible. Emails are sent on weekends for work to be done before Monday. Instructions and expectations are unclear, and then employees are disciplined for not meeting expectations. Methods of communication do not show basic understanding of good leadership skills or even basic constructive communication.\\r\\n\\r\\nNo support from administration when there are problems or difficulties. Everything is about \"data\" that is neither accurate nor useful. Though the district and administrators at the school claim to care about putting students first, there is no part of their policies or actions that support students (or staff) above points of superfluous data collection or self protection.</td>\n",
       "      <td>x</td>\n",
       "      <td>o</td>\n",
       "      <td>x</td>\n",
       "      <td>2</td>\n",
       "      <td>2.0</td>\n",
       "      <td>1.0</td>\n",
       "      <td>1.0</td>\n",
       "      <td>1.0</td>\n",
       "      <td>NaN</td>\n",
       "      <td>Reviews/Manor-ISD-Reviews-E231745.htm</td>\n",
       "      <td>Jan 5, 2021</td>\n",
       "      <td>6th Grade ELA Teacher</td>\n",
       "      <td>NaN</td>\n",
       "    </tr>\n",
       "  </tbody>\n",
       "</table>\n",
       "</div>"
      ],
      "text/plain": [
       "   rating                 title                             status  \\\n",
       "0     3.0                  Good                    Former Employee   \n",
       "1     1.0  It's Only About Data  Former Employee, less than 1 year   \n",
       "\n",
       "                                                                                         pros  \\\n",
       "0                                            Schedule accommodation\\r\\nFree food during shift   \n",
       "1  The teachers at the school are great and really support each other during stressful times.   \n",
       "\n",
       "                                                                                                                                                                                                                                                                                                                                                                                                                                                                                                                                                                                                                                                                                                                                                                                                                                            cons  \\\n",
       "0                                                                                                                                                                                                                                                                                                                                                                                                                                                                                                                                                                                                                                                                                                                                                                                                             Fast food and management was rough   \n",
       "1  The school and the district has disappointing leadership who don't listen to the teachers and staff.\\r\\n\\r\\nCommunication is terrible. Emails are sent on weekends for work to be done before Monday. Instructions and expectations are unclear, and then employees are disciplined for not meeting expectations. Methods of communication do not show basic understanding of good leadership skills or even basic constructive communication.\\r\\n\\r\\nNo support from administration when there are problems or difficulties. Everything is about \"data\" that is neither accurate nor useful. Though the district and administrators at the school claim to care about putting students first, there is no part of their policies or actions that support students (or staff) above points of superfluous data collection or self protection.   \n",
       "\n",
       "  Recommend CEO Approval Business Outlook Career Opportunities  \\\n",
       "0         o            o                o                    3   \n",
       "1         x            o                x                    2   \n",
       "\n",
       "  Compensation and Benefits Senior Management Work/Life Balance  \\\n",
       "0                         3                 3                 5   \n",
       "1                       2.0               1.0               1.0   \n",
       "\n",
       "   Culture & Values  Diversity & Inclusion  \\\n",
       "0               3.0                    4.0   \n",
       "1               1.0                    NaN   \n",
       "\n",
       "                               firm_link           date  \\\n",
       "0  Reviews/Chipotle-Reviews-E1370610.htm  Jul 18, 2022    \n",
       "1  Reviews/Manor-ISD-Reviews-E231745.htm   Jan 5, 2021    \n",
       "\n",
       "                      job  index  \n",
       "0                 Cashier    NaN  \n",
       "1   6th Grade ELA Teacher    NaN  "
      ]
     },
     "execution_count": 225,
     "metadata": {},
     "output_type": "execute_result"
    }
   ],
   "source": [
    "# Drop empty columns\n",
    "df = df.drop(columns='advice')\n",
    "\n",
    "df.head(2)"
   ]
  },
  {
   "cell_type": "code",
   "execution_count": 226,
   "id": "da986b53",
   "metadata": {},
   "outputs": [
    {
     "data": {
      "text/html": [
       "<div>\n",
       "<style scoped>\n",
       "    .dataframe tbody tr th:only-of-type {\n",
       "        vertical-align: middle;\n",
       "    }\n",
       "\n",
       "    .dataframe tbody tr th {\n",
       "        vertical-align: top;\n",
       "    }\n",
       "\n",
       "    .dataframe thead th {\n",
       "        text-align: right;\n",
       "    }\n",
       "</style>\n",
       "<table border=\"1\" class=\"dataframe\">\n",
       "  <thead>\n",
       "    <tr style=\"text-align: right;\">\n",
       "      <th></th>\n",
       "      <th>rating</th>\n",
       "      <th>title</th>\n",
       "      <th>status</th>\n",
       "      <th>pros</th>\n",
       "      <th>cons</th>\n",
       "      <th>Recommend</th>\n",
       "      <th>CEO Approval</th>\n",
       "      <th>Business Outlook</th>\n",
       "      <th>Career Opportunities</th>\n",
       "      <th>Compensation and Benefits</th>\n",
       "      <th>Senior Management</th>\n",
       "      <th>Work/Life Balance</th>\n",
       "      <th>Culture &amp; Values</th>\n",
       "      <th>Diversity &amp; Inclusion</th>\n",
       "      <th>firm_link</th>\n",
       "      <th>date</th>\n",
       "      <th>job</th>\n",
       "    </tr>\n",
       "  </thead>\n",
       "  <tbody>\n",
       "    <tr>\n",
       "      <th>0</th>\n",
       "      <td>3.0</td>\n",
       "      <td>Good</td>\n",
       "      <td>Former Employee</td>\n",
       "      <td>Schedule accommodation\\r\\nFree food during shift</td>\n",
       "      <td>Fast food and management was rough</td>\n",
       "      <td>o</td>\n",
       "      <td>o</td>\n",
       "      <td>o</td>\n",
       "      <td>3</td>\n",
       "      <td>3</td>\n",
       "      <td>3</td>\n",
       "      <td>5</td>\n",
       "      <td>3.0</td>\n",
       "      <td>4.0</td>\n",
       "      <td>Reviews/Chipotle-Reviews-E1370610.htm</td>\n",
       "      <td>Jul 18, 2022</td>\n",
       "      <td>Cashier</td>\n",
       "    </tr>\n",
       "    <tr>\n",
       "      <th>1</th>\n",
       "      <td>1.0</td>\n",
       "      <td>It's Only About Data</td>\n",
       "      <td>Former Employee, less than 1 year</td>\n",
       "      <td>The teachers at the school are great and really support each other during stressful times.</td>\n",
       "      <td>The school and the district has disappointing leadership who don't listen to the teachers and staff.\\r\\n\\r\\nCommunication is terrible. Emails are sent on weekends for work to be done before Monday. Instructions and expectations are unclear, and then employees are disciplined for not meeting expectations. Methods of communication do not show basic understanding of good leadership skills or even basic constructive communication.\\r\\n\\r\\nNo support from administration when there are problems or difficulties. Everything is about \"data\" that is neither accurate nor useful. Though the district and administrators at the school claim to care about putting students first, there is no part of their policies or actions that support students (or staff) above points of superfluous data collection or self protection.</td>\n",
       "      <td>x</td>\n",
       "      <td>o</td>\n",
       "      <td>x</td>\n",
       "      <td>2</td>\n",
       "      <td>2.0</td>\n",
       "      <td>1.0</td>\n",
       "      <td>1.0</td>\n",
       "      <td>1.0</td>\n",
       "      <td>NaN</td>\n",
       "      <td>Reviews/Manor-ISD-Reviews-E231745.htm</td>\n",
       "      <td>Jan 5, 2021</td>\n",
       "      <td>6th Grade ELA Teacher</td>\n",
       "    </tr>\n",
       "  </tbody>\n",
       "</table>\n",
       "</div>"
      ],
      "text/plain": [
       "   rating                 title                             status  \\\n",
       "0     3.0                  Good                    Former Employee   \n",
       "1     1.0  It's Only About Data  Former Employee, less than 1 year   \n",
       "\n",
       "                                                                                         pros  \\\n",
       "0                                            Schedule accommodation\\r\\nFree food during shift   \n",
       "1  The teachers at the school are great and really support each other during stressful times.   \n",
       "\n",
       "                                                                                                                                                                                                                                                                                                                                                                                                                                                                                                                                                                                                                                                                                                                                                                                                                                            cons  \\\n",
       "0                                                                                                                                                                                                                                                                                                                                                                                                                                                                                                                                                                                                                                                                                                                                                                                                             Fast food and management was rough   \n",
       "1  The school and the district has disappointing leadership who don't listen to the teachers and staff.\\r\\n\\r\\nCommunication is terrible. Emails are sent on weekends for work to be done before Monday. Instructions and expectations are unclear, and then employees are disciplined for not meeting expectations. Methods of communication do not show basic understanding of good leadership skills or even basic constructive communication.\\r\\n\\r\\nNo support from administration when there are problems or difficulties. Everything is about \"data\" that is neither accurate nor useful. Though the district and administrators at the school claim to care about putting students first, there is no part of their policies or actions that support students (or staff) above points of superfluous data collection or self protection.   \n",
       "\n",
       "  Recommend CEO Approval Business Outlook Career Opportunities  \\\n",
       "0         o            o                o                    3   \n",
       "1         x            o                x                    2   \n",
       "\n",
       "  Compensation and Benefits Senior Management Work/Life Balance  \\\n",
       "0                         3                 3                 5   \n",
       "1                       2.0               1.0               1.0   \n",
       "\n",
       "   Culture & Values  Diversity & Inclusion  \\\n",
       "0               3.0                    4.0   \n",
       "1               1.0                    NaN   \n",
       "\n",
       "                               firm_link           date  \\\n",
       "0  Reviews/Chipotle-Reviews-E1370610.htm  Jul 18, 2022    \n",
       "1  Reviews/Manor-ISD-Reviews-E231745.htm   Jan 5, 2021    \n",
       "\n",
       "                      job  \n",
       "0                 Cashier  \n",
       "1   6th Grade ELA Teacher  "
      ]
     },
     "execution_count": 226,
     "metadata": {},
     "output_type": "execute_result"
    }
   ],
   "source": [
    "df = df.drop(df.columns[17], axis=1)\n",
    "df.head(2)"
   ]
  },
  {
   "cell_type": "markdown",
   "id": "bd78f3e7",
   "metadata": {},
   "source": [
    "##### Column names"
   ]
  },
  {
   "cell_type": "code",
   "execution_count": 227,
   "id": "d24fb9d3",
   "metadata": {},
   "outputs": [
    {
     "name": "stdout",
     "output_type": "stream",
     "text": [
      "Original columns:  ['rating', 'title', 'status', 'pros', 'cons', 'Recommend', 'CEO Approval', 'Business Outlook', 'Career Opportunities', 'Compensation and Benefits', 'Senior Management', 'Work/Life Balance', 'Culture & Values', 'Diversity & Inclusion', 'firm_link', 'date', 'job']\n",
      "New columns:  ['overall_rating', 'review_title', 'tenure_at_employer', 'pros', 'cons', 'recommend', 'ceo_approval', 'business_outlook', 'career_opportunities_rating', 'comp_benefits_rating', 'senior_management_rating', 'work_life_rating', 'culture_values_rating', 'diversity_inclusion_rating', 'company', 'review_date', 'job_title']\n"
     ]
    }
   ],
   "source": [
    "# Columns renamed prior to further profiling\n",
    "\n",
    "print('Original columns: ', df.columns.to_list())\n",
    "\n",
    "df.rename(columns={\n",
    "    'rating': 'overall_rating',\n",
    "    'Career Opportunities': 'career_opportunities_rating',\n",
    "    'Compensation and Benefits': 'comp_benefits_rating',\n",
    "    'Culture & Values': 'culture_values_rating',\n",
    "    'Diversity & Inclusion': 'diversity_inclusion_rating',\n",
    "    'job': 'job_title',\n",
    "    'status': 'tenure_at_employer',\n",
    "    'date': 'review_date',\n",
    "    'title': 'review_title',\n",
    "    'Senior Management': 'senior_management_rating',\n",
    "    'Work/Life Balance': 'work_life_rating',\n",
    "    'Recommend': 'recommend',\n",
    "    'CEO Approval': 'ceo_approval',\n",
    "    'Business Outlook': 'business_outlook',\n",
    "    'firm_link' : 'company'\n",
    "}, inplace=True)\n",
    "\n",
    "\n",
    "print('New columns: ', df.columns.to_list())"
   ]
  },
  {
   "cell_type": "markdown",
   "id": "74f96331",
   "metadata": {},
   "source": [
    "##### Duplicates"
   ]
  },
  {
   "cell_type": "code",
   "execution_count": 228,
   "id": "aa358c4a",
   "metadata": {},
   "outputs": [
    {
     "name": "stdout",
     "output_type": "stream",
     "text": [
      "Duplicate rows:  440\n"
     ]
    }
   ],
   "source": [
    "# Find entire row duplicates\n",
    "duplicates = df.duplicated().sum()\n",
    "print('Duplicate rows: ', duplicates)"
   ]
  },
  {
   "cell_type": "code",
   "execution_count": 229,
   "id": "6458276b",
   "metadata": {},
   "outputs": [
    {
     "data": {
      "text/plain": [
       "(99560, 17)"
      ]
     },
     "execution_count": 229,
     "metadata": {},
     "output_type": "execute_result"
    }
   ],
   "source": [
    "# Drop row duplicates\n",
    "df = df.drop_duplicates()\n",
    "df.shape"
   ]
  },
  {
   "cell_type": "markdown",
   "id": "3891fcfc",
   "metadata": {},
   "source": [
    "- ratings columns"
   ]
  },
  {
   "cell_type": "code",
   "execution_count": 230,
   "id": "e90c15a8",
   "metadata": {},
   "outputs": [
    {
     "name": "stdout",
     "output_type": "stream",
     "text": [
      "       overall_rating  diversity_inclusion_rating  culture_values_rating\n",
      "0                 3.0                         4.0                    3.0\n",
      "1                 1.0                         NaN                    1.0\n",
      "2                 3.0                         NaN                    3.0\n",
      "3                 2.0                         NaN                    NaN\n",
      "4                 4.0                         NaN                    NaN\n",
      "...               ...                         ...                    ...\n",
      "99995             2.0                         NaN                    5.0\n",
      "99996             4.0                         NaN                    5.0\n",
      "99997             3.0                         NaN                    NaN\n",
      "99998             3.0                         3.0                    3.0\n",
      "99999             5.0                         5.0                    5.0\n",
      "\n",
      "[99560 rows x 3 columns]\n",
      "      work_life_rating senior_management_rating comp_benefits_rating  \\\n",
      "0                    5                        3                    3   \n",
      "1                  1.0                      1.0                  2.0   \n",
      "2                    2                        1                    3   \n",
      "3                  NaN                      NaN                  NaN   \n",
      "4                  NaN                      NaN                  NaN   \n",
      "...                ...                      ...                  ...   \n",
      "99995                1                        1                    1   \n",
      "99996                1                        4                    2   \n",
      "99997              NaN                      NaN                  NaN   \n",
      "99998                3                        2                    3   \n",
      "99999                5                        4                    3   \n",
      "\n",
      "      career_opportunities_rating  \n",
      "0                               3  \n",
      "1                               2  \n",
      "2                               2  \n",
      "3                             NaN  \n",
      "4                             NaN  \n",
      "...                           ...  \n",
      "99995                           1  \n",
      "99996                           4  \n",
      "99997                         NaN  \n",
      "99998                           4  \n",
      "99999                           3  \n",
      "\n",
      "[99560 rows x 4 columns]\n"
     ]
    }
   ],
   "source": [
    "# Inspect ratings columns\n",
    "float_ratings = ['overall_rating', 'diversity_inclusion_rating', 'culture_values_rating']\n",
    "print(df[float_ratings])\n",
    "\n",
    "obj_ratings = ['work_life_rating', 'senior_management_rating', 'comp_benefits_rating', 'career_opportunities_rating']\n",
    "print(df[obj_ratings])\n"
   ]
  },
  {
   "cell_type": "code",
   "execution_count": 231,
   "id": "11680040",
   "metadata": {},
   "outputs": [
    {
     "name": "stdout",
     "output_type": "stream",
     "text": [
      "FLOAT RATINGS:  overall_rating: [3. 1. 2. 4. 5.]\n",
      "FLOAT RATINGS:  diversity_inclusion_rating: [ 4. nan  5.  3.  1.  2.]\n",
      "FLOAT RATINGS:  culture_values_rating: [ 3.  1. nan  2.  4.  5.]\n",
      "OBJECT RATINGS:  work_life_rating: ['5' '1.0' '2' nan '3' '1' '4' '4.0' '5.0' '2.0' '10u0eun' 's4o194' '3.0'\n",
      " '156pzk5' 'e0wqkp']\n",
      "OBJECT RATINGS:  senior_management_rating: ['3' '1.0' '1' nan '5' '4' '5.0' '2.0' '2' '4.0' '3.0' '10u0eun' 'e0wqkp'\n",
      " '156pzk5' 's4o194']\n",
      "OBJECT RATINGS:  comp_benefits_rating: ['3' '2.0' nan '5' '4' '1' '2' '5.0' '3.0' '4.0' '1.0' '10u0eun' 'e0wqkp'\n",
      " 's4o194' '156pzk5']\n",
      "OBJECT RATINGS:  career_opportunities_rating: ['3' '2' nan '5' '1' '4' '5.0' '4.0' '2.0' '1.0' '10u0eun' '3.0' 'e0wqkp'\n",
      " 's4o194' '156pzk5']\n"
     ]
    }
   ],
   "source": [
    "for col in (float_ratings):\n",
    "    print('FLOAT RATINGS: ', f\"{col}: {df[col].unique()}\") \n",
    "\n",
    "\n",
    "for col in (obj_ratings):\n",
    "    print('OBJECT RATINGS: ', f\"{col}: {df[col].unique()}\")"
   ]
  },
  {
   "cell_type": "code",
   "execution_count": 232,
   "id": "665e79fe",
   "metadata": {},
   "outputs": [
    {
     "name": "stdout",
     "output_type": "stream",
     "text": [
      "Dtype:  object\n"
     ]
    },
    {
     "data": {
      "text/plain": [
       "tenure_at_employer\n",
       "Former Employee                        39470\n",
       "Former Employee, less than 1 year      16116\n",
       "Former Employee, more than 1 year      20339\n",
       "Former Employee, more than 10 years     3006\n",
       "Former Employee, more than 3 years     11902\n",
       "Former Employee, more than 5 years      6036\n",
       "Former Employee, more than 8 years      2691\n",
       "Name: count, dtype: int64"
      ]
     },
     "execution_count": 232,
     "metadata": {},
     "output_type": "execute_result"
    }
   ],
   "source": [
    "# Inspect tenure column\n",
    "print('Dtype: ', df['tenure_at_employer'].dtypes)\n",
    "\n",
    "df['tenure_at_employer'].value_counts().sort_index()"
   ]
  },
  {
   "cell_type": "markdown",
   "id": "bc0a51ea",
   "metadata": {},
   "source": [
    "- Convert all text columns to string dtype"
   ]
  },
  {
   "cell_type": "code",
   "execution_count": 233,
   "id": "9408294f",
   "metadata": {},
   "outputs": [
    {
     "data": {
      "text/plain": [
       "review_title          string[python]\n",
       "company               string[python]\n",
       "job_title             string[python]\n",
       "pros                  string[python]\n",
       "cons                  string[python]\n",
       "ceo_approval          string[python]\n",
       "tenure_at_employer    string[python]\n",
       "recommend             string[python]\n",
       "business_outlook      string[python]\n",
       "dtype: object"
      ]
     },
     "execution_count": 233,
     "metadata": {},
     "output_type": "execute_result"
    }
   ],
   "source": [
    "# objects to string\n",
    "all_text_cols = ['review_title', 'company', 'job_title', 'pros', 'cons', 'ceo_approval', 'tenure_at_employer','recommend','business_outlook']\n",
    "\n",
    "df[all_text_cols] = df[all_text_cols].astype('string')\n",
    "\n",
    "# Verify dtype update to string\n",
    "df[all_text_cols].dtypes"
   ]
  },
  {
   "cell_type": "markdown",
   "id": "61dc34b4",
   "metadata": {},
   "source": [
    "- Ratings columns"
   ]
  },
  {
   "cell_type": "code",
   "execution_count": 234,
   "id": "74eab62d",
   "metadata": {},
   "outputs": [
    {
     "name": "stdout",
     "output_type": "stream",
     "text": [
      "Unique values:   work_life_rating: [ 5.  1.  2. nan  3.  4.]\n",
      "Unique values:   senior_management_rating: [ 3.  1. nan  5.  4.  2.]\n",
      "Unique values:   comp_benefits_rating: [ 3.  2. nan  5.  4.  1.]\n",
      "Unique values:   career_opportunities_rating: [ 3.  2. nan  5.  1.  4.]\n",
      "<class 'pandas.core.frame.DataFrame'>\n",
      "Index: 99560 entries, 0 to 99999\n",
      "Data columns (total 17 columns):\n",
      " #   Column                       Non-Null Count  Dtype  \n",
      "---  ------                       --------------  -----  \n",
      " 0   overall_rating               99560 non-null  float64\n",
      " 1   review_title                 99250 non-null  string \n",
      " 2   tenure_at_employer           99560 non-null  string \n",
      " 3   pros                         99560 non-null  string \n",
      " 4   cons                         99560 non-null  string \n",
      " 5   recommend                    99560 non-null  string \n",
      " 6   ceo_approval                 99560 non-null  string \n",
      " 7   business_outlook             99560 non-null  string \n",
      " 8   career_opportunities_rating  78154 non-null  float64\n",
      " 9   comp_benefits_rating         77531 non-null  float64\n",
      " 10  senior_management_rating     76768 non-null  float64\n",
      " 11  work_life_rating             77422 non-null  float64\n",
      " 12  culture_values_rating        75340 non-null  float64\n",
      " 13  diversity_inclusion_rating   31432 non-null  float64\n",
      " 14  company                      99560 non-null  string \n",
      " 15  review_date                  99560 non-null  object \n",
      " 16  job_title                    99560 non-null  string \n",
      "dtypes: float64(7), object(1), string(9)\n",
      "memory usage: 13.7+ MB\n"
     ]
    }
   ],
   "source": [
    "# Get rid of non-numeric values in all ratings columns\n",
    "obj_ratings = ['work_life_rating', 'senior_management_rating', 'comp_benefits_rating', 'career_opportunities_rating']\n",
    "weird_values = ['10u0eun', 'e0wqkp','s4o194', '156pzk5']\n",
    "\n",
    "# Replace weird values with NaN\n",
    "df[obj_ratings] = df[obj_ratings].replace(weird_values, np.nan)\n",
    "\n",
    "# convert objects to floats\n",
    "df[obj_ratings] = df[obj_ratings].astype('float')\n",
    "\n",
    "# Check columns unique values\n",
    "for col in obj_ratings:\n",
    "    print('Unique values: '' ', f\"{col}: {df[col].unique()}\")\n",
    "\n",
    "df.info()\n",
    "\n",
    "## Keep ratings NaNs!!  These inidicate no response, not actually 0 \n",
    "# 'overall_rating' has no NaNs because mandatory"
   ]
  },
  {
   "cell_type": "markdown",
   "id": "0e4aa149",
   "metadata": {},
   "source": [
    "- DATE column"
   ]
  },
  {
   "cell_type": "code",
   "execution_count": 235,
   "id": "aaf22e0c",
   "metadata": {},
   "outputs": [
    {
     "data": {
      "text/plain": [
       "dtype('<M8[ns]')"
      ]
     },
     "execution_count": 235,
     "metadata": {},
     "output_type": "execute_result"
    }
   ],
   "source": [
    "# object to date\n",
    "df['review_date'] = pd.to_datetime(df['review_date'], errors='coerce')\n",
    "\n",
    "# Confirm new datetime dtype\n",
    "df['review_date'].dtype"
   ]
  },
  {
   "cell_type": "markdown",
   "id": "a760536d",
   "metadata": {},
   "source": [
    "- review_title"
   ]
  },
  {
   "cell_type": "code",
   "execution_count": 236,
   "id": "6d2983f6",
   "metadata": {},
   "outputs": [
    {
     "name": "stdout",
     "output_type": "stream",
     "text": [
      "Null before:  310\n",
      "Nulls after:  0\n"
     ]
    }
   ],
   "source": [
    "# Capture # of nulls before changes\n",
    "print('Null before: ',df['review_title'].isna().sum())\n",
    "\n",
    "# Fill nulls with \"Not provided\"\n",
    "df['review_title'] = df['review_title'].fillna('Not provided')\n",
    "\n",
    "# Verify no more nulls\n",
    "print('Nulls after: ', df['review_title'].isna().sum())"
   ]
  },
  {
   "cell_type": "markdown",
   "id": "c97838a0",
   "metadata": {},
   "source": [
    "- business_outlook, recommend, ceo_approval columns"
   ]
  },
  {
   "cell_type": "code",
   "execution_count": 237,
   "id": "f8077cee",
   "metadata": {},
   "outputs": [
    {
     "data": {
      "text/html": [
       "<div>\n",
       "<style scoped>\n",
       "    .dataframe tbody tr th:only-of-type {\n",
       "        vertical-align: middle;\n",
       "    }\n",
       "\n",
       "    .dataframe tbody tr th {\n",
       "        vertical-align: top;\n",
       "    }\n",
       "\n",
       "    .dataframe thead th {\n",
       "        text-align: right;\n",
       "    }\n",
       "</style>\n",
       "<table border=\"1\" class=\"dataframe\">\n",
       "  <thead>\n",
       "    <tr style=\"text-align: right;\">\n",
       "      <th></th>\n",
       "      <th>business_outlook</th>\n",
       "      <th>recommend</th>\n",
       "      <th>ceo_approval</th>\n",
       "    </tr>\n",
       "  </thead>\n",
       "  <tbody>\n",
       "    <tr>\n",
       "      <th>0</th>\n",
       "      <td>No opinion</td>\n",
       "      <td>No opinion</td>\n",
       "      <td>No opinion</td>\n",
       "    </tr>\n",
       "    <tr>\n",
       "      <th>1</th>\n",
       "      <td>Negative</td>\n",
       "      <td>Negative</td>\n",
       "      <td>No opinion</td>\n",
       "    </tr>\n",
       "    <tr>\n",
       "      <th>2</th>\n",
       "      <td>Mild</td>\n",
       "      <td>Positive</td>\n",
       "      <td>Mild</td>\n",
       "    </tr>\n",
       "    <tr>\n",
       "      <th>3</th>\n",
       "      <td>No opinion</td>\n",
       "      <td>No opinion</td>\n",
       "      <td>No opinion</td>\n",
       "    </tr>\n",
       "    <tr>\n",
       "      <th>4</th>\n",
       "      <td>No opinion</td>\n",
       "      <td>No opinion</td>\n",
       "      <td>No opinion</td>\n",
       "    </tr>\n",
       "    <tr>\n",
       "      <th>...</th>\n",
       "      <td>...</td>\n",
       "      <td>...</td>\n",
       "      <td>...</td>\n",
       "    </tr>\n",
       "    <tr>\n",
       "      <th>99995</th>\n",
       "      <td>Negative</td>\n",
       "      <td>Negative</td>\n",
       "      <td>Mild</td>\n",
       "    </tr>\n",
       "    <tr>\n",
       "      <th>99996</th>\n",
       "      <td>Mild</td>\n",
       "      <td>Positive</td>\n",
       "      <td>No opinion</td>\n",
       "    </tr>\n",
       "    <tr>\n",
       "      <th>99997</th>\n",
       "      <td>No opinion</td>\n",
       "      <td>No opinion</td>\n",
       "      <td>No opinion</td>\n",
       "    </tr>\n",
       "    <tr>\n",
       "      <th>99998</th>\n",
       "      <td>Positive</td>\n",
       "      <td>Negative</td>\n",
       "      <td>Mild</td>\n",
       "    </tr>\n",
       "    <tr>\n",
       "      <th>99999</th>\n",
       "      <td>Positive</td>\n",
       "      <td>Positive</td>\n",
       "      <td>No opinion</td>\n",
       "    </tr>\n",
       "  </tbody>\n",
       "</table>\n",
       "<p>99560 rows × 3 columns</p>\n",
       "</div>"
      ],
      "text/plain": [
       "      business_outlook   recommend ceo_approval\n",
       "0           No opinion  No opinion   No opinion\n",
       "1             Negative    Negative   No opinion\n",
       "2                 Mild    Positive         Mild\n",
       "3           No opinion  No opinion   No opinion\n",
       "4           No opinion  No opinion   No opinion\n",
       "...                ...         ...          ...\n",
       "99995         Negative    Negative         Mild\n",
       "99996             Mild    Positive   No opinion\n",
       "99997       No opinion  No opinion   No opinion\n",
       "99998         Positive    Negative         Mild\n",
       "99999         Positive    Positive   No opinion\n",
       "\n",
       "[99560 rows x 3 columns]"
      ]
     },
     "execution_count": 237,
     "metadata": {},
     "output_type": "execute_result"
    }
   ],
   "source": [
    "# map business_outlook, recommend, ceo_approval values to labels\n",
    "opinion_map_cols = ['business_outlook', 'recommend', 'ceo_approval']\n",
    "opinion_map = { 'v' : 'Positive', 'r': 'Mild', 'x': 'Negative', 'o' : 'No opinion'}\n",
    "\n",
    "df[opinion_map_cols] = df[opinion_map_cols].apply(lambda col: col.map(opinion_map))\n",
    "\n",
    "\n",
    "# Verify changed values\n",
    "df[opinion_map_cols]"
   ]
  },
  {
   "cell_type": "markdown",
   "id": "379525e8",
   "metadata": {},
   "source": [
    "- tenure_at_employer column"
   ]
  },
  {
   "cell_type": "code",
   "execution_count": 238,
   "id": "ede69fcb",
   "metadata": {},
   "outputs": [
    {
     "data": {
      "text/plain": [
       "tenure_at_employer\n",
       "Under 1 year     16116\n",
       "1-5 years        32241\n",
       "6-10 years        8727\n",
       "Over 10 years     3006\n",
       "Not provided     39470\n",
       "Name: count, dtype: int64"
      ]
     },
     "execution_count": 238,
     "metadata": {},
     "output_type": "execute_result"
    }
   ],
   "source": [
    "# Re-bucket tenure lengths\n",
    "df['tenure_at_employer'] = df['tenure_at_employer'].replace({\n",
    "    'Former Employee' : 'Not provided',\n",
    "    'Former Employee, less than 1 year' : 'Under 1 year',\n",
    "    'Former Employee, more than 1 year' : '1-5 years',\n",
    "    'Former Employee, more than 3 years' : '1-5 years',\n",
    "    'Former Employee, more than 5 years' : '6-10 years',\n",
    "    'Former Employee, more than 8 years' : '6-10 years',\n",
    "    'Former Employee, more than 10 years' : 'Over 10 years'\n",
    "\n",
    "})\n",
    "\n",
    "# Set bucket sorting order\n",
    "tenure_order = [\n",
    "    'Under 1 year',\n",
    "    '1-5 years',\n",
    "    '6-10 years',\n",
    "    'Over 10 years',\n",
    "    'Not provided'\n",
    "]\n",
    "\n",
    "# Change to categorical to enforce sorting order\n",
    "df['tenure_at_employer'] = pd.Categorical(\n",
    "    df['tenure_at_employer'],\n",
    "    categories=tenure_order,\n",
    "    ordered=True\n",
    ")\n",
    "\n",
    "# Confirm changes\n",
    "df['tenure_at_employer'].value_counts().sort_index()\n"
   ]
  },
  {
   "cell_type": "markdown",
   "id": "54feb983",
   "metadata": {},
   "source": [
    "- company column"
   ]
  },
  {
   "cell_type": "code",
   "execution_count": 239,
   "id": "27cbe3ff",
   "metadata": {},
   "outputs": [
    {
     "data": {
      "text/plain": [
       "0                                 Chipotle\n",
       "1                                Manor ISD\n",
       "2                          CA Technologies\n",
       "3        Palm Beach County School District\n",
       "4                            Goldman Sachs\n",
       "                       ...                \n",
       "99995                                   RH\n",
       "99996                             GameStop\n",
       "99997                             Chipotle\n",
       "99998                                H E B\n",
       "99999                 Texas A&M University\n",
       "Name: company, Length: 99560, dtype: string"
      ]
     },
     "execution_count": 239,
     "metadata": {},
     "output_type": "execute_result"
    }
   ],
   "source": [
    "# Replace NaNs with \"Not Provided\"\n",
    "df['company'] = df['company'].fillna('Not provided')\n",
    "\n",
    "# Extract company name\n",
    "df['company'] = df['company'].str.extract(r'Reviews/([^/]+?)-Reviews', expand=False)\n",
    "\n",
    "# Remove dashes between words\n",
    "df['company'] = df['company'].str.replace('-', ' ', regex=False)\n",
    "\n",
    "# Inspect company\n",
    "df['company']"
   ]
  },
  {
   "cell_type": "markdown",
   "id": "5ca5a543",
   "metadata": {},
   "source": [
    "- pros column"
   ]
  },
  {
   "cell_type": "code",
   "execution_count": 240,
   "id": "a36e2a96",
   "metadata": {},
   "outputs": [],
   "source": [
    "# Pros column\n",
    "\n",
    "df['pros'] = (\n",
    "    df['pros']\n",
    "    .str.lower()\n",
    "    .str.strip()\n",
    "\n",
    "# remove punctuation\n",
    "    .str.replace(r'[^\\w\\s]', '', regex=True)  \n",
    "\n",
    "# normalize spaces\n",
    "    .str.replace(r'\\s+', ' ', regex=True)     \n",
    ")\n"
   ]
  },
  {
   "cell_type": "code",
   "execution_count": 241,
   "id": "30026954",
   "metadata": {},
   "outputs": [
    {
     "data": {
      "text/plain": [
       "62888           learning zone for a fresh graduate\n",
       "49342    good coworkers good work work environment\n",
       "25115     the culture was great and very laid back\n",
       "Name: pros, dtype: string"
      ]
     },
     "execution_count": 241,
     "metadata": {},
     "output_type": "execute_result"
    }
   ],
   "source": [
    "df['pros'].sample(3)"
   ]
  },
  {
   "cell_type": "markdown",
   "id": "88077874",
   "metadata": {},
   "source": [
    "- cons column"
   ]
  },
  {
   "cell_type": "code",
   "execution_count": 242,
   "id": "390080ad",
   "metadata": {},
   "outputs": [],
   "source": [
    "# Cons column \n",
    "\n",
    "df['cons'] = (\n",
    "    df['cons']\n",
    "    .str.lower()\n",
    "    .str.strip()\n",
    "\n",
    "# remove punctuation\n",
    "    .str.replace(r'[^\\w\\s]', '', regex=True)  \n",
    "\n",
    "# normalize spaces\n",
    "    .str.replace(r'\\s+', ' ', regex=True)     \n",
    ")"
   ]
  },
  {
   "cell_type": "code",
   "execution_count": 243,
   "id": "53bdbe31",
   "metadata": {},
   "outputs": [
    {
     "data": {
      "text/plain": [
       "34458    where do i begin first i question the few good recent reviews published on this site as being written by anyone other than management trying to get their score increased i dont know of anyone in any position across the board who is happy there right now mercury used to be a good company to work for in the past 23 years its gone downhill fast people are over worked super stressed unappreciated underpaid and literally everyone hates being there upper management couldnt care less about their employees the raises are laughable and the bonuses are less and less year after year ive seen 3 major layoffs and only stayed as long as i did hoping to get laid off myself so i could get a nice severance and then be on my way hc is a joke implementing huddle cards and high 5s as a way to reward adultsits offensive i send my condolences to george joseph in regards to the way a company he worked hard to build has been run into the ground\n",
       "93778                                                                                                                                                                                                                                                                                                                                                                                                                                                                                                                                                                                                                                                                                                                                                                                                                                                                                                                                  strict managers long hours work holidays\n",
       "44734                                                                                                                                                                                                                                                                                                                                                                                                                                                                                                                                                                                                                                                                                                                                                                                                                                                                                                                        poor career and wage evolution for young graduates\n",
       "Name: cons, dtype: string"
      ]
     },
     "execution_count": 243,
     "metadata": {},
     "output_type": "execute_result"
    }
   ],
   "source": [
    "df['cons'].sample(3)"
   ]
  },
  {
   "cell_type": "markdown",
   "id": "0449a5b6",
   "metadata": {},
   "source": [
    "#### Cleaned dataset"
   ]
  },
  {
   "cell_type": "code",
   "execution_count": 244,
   "id": "15314b5f",
   "metadata": {},
   "outputs": [
    {
     "name": "stdout",
     "output_type": "stream",
     "text": [
      "(99560, 17)\n"
     ]
    },
    {
     "data": {
      "text/html": [
       "<div>\n",
       "<style scoped>\n",
       "    .dataframe tbody tr th:only-of-type {\n",
       "        vertical-align: middle;\n",
       "    }\n",
       "\n",
       "    .dataframe tbody tr th {\n",
       "        vertical-align: top;\n",
       "    }\n",
       "\n",
       "    .dataframe thead th {\n",
       "        text-align: right;\n",
       "    }\n",
       "</style>\n",
       "<table border=\"1\" class=\"dataframe\">\n",
       "  <thead>\n",
       "    <tr style=\"text-align: right;\">\n",
       "      <th></th>\n",
       "      <th>overall_rating</th>\n",
       "      <th>review_title</th>\n",
       "      <th>tenure_at_employer</th>\n",
       "      <th>pros</th>\n",
       "      <th>cons</th>\n",
       "      <th>recommend</th>\n",
       "      <th>ceo_approval</th>\n",
       "      <th>business_outlook</th>\n",
       "      <th>career_opportunities_rating</th>\n",
       "      <th>comp_benefits_rating</th>\n",
       "      <th>senior_management_rating</th>\n",
       "      <th>work_life_rating</th>\n",
       "      <th>culture_values_rating</th>\n",
       "      <th>diversity_inclusion_rating</th>\n",
       "      <th>company</th>\n",
       "      <th>review_date</th>\n",
       "      <th>job_title</th>\n",
       "    </tr>\n",
       "  </thead>\n",
       "  <tbody>\n",
       "    <tr>\n",
       "      <th>0</th>\n",
       "      <td>3.0</td>\n",
       "      <td>Good</td>\n",
       "      <td>Not provided</td>\n",
       "      <td>schedule accommodation free food during shift</td>\n",
       "      <td>fast food and management was rough</td>\n",
       "      <td>No opinion</td>\n",
       "      <td>No opinion</td>\n",
       "      <td>No opinion</td>\n",
       "      <td>3.0</td>\n",
       "      <td>3.0</td>\n",
       "      <td>3.0</td>\n",
       "      <td>5.0</td>\n",
       "      <td>3.0</td>\n",
       "      <td>4.0</td>\n",
       "      <td>Chipotle</td>\n",
       "      <td>2022-07-18</td>\n",
       "      <td>Cashier</td>\n",
       "    </tr>\n",
       "    <tr>\n",
       "      <th>1</th>\n",
       "      <td>1.0</td>\n",
       "      <td>It's Only About Data</td>\n",
       "      <td>Under 1 year</td>\n",
       "      <td>the teachers at the school are great and really support each other during stressful times</td>\n",
       "      <td>the school and the district has disappointing leadership who dont listen to the teachers and staff communication is terrible emails are sent on weekends for work to be done before monday instructions and expectations are unclear and then employees are disciplined for not meeting expectations methods of communication do not show basic understanding of good leadership skills or even basic constructive communication no support from administration when there are problems or difficulties everything is about data that is neither accurate nor useful though the district and administrators at the school claim to care about putting students first there is no part of their policies or actions that support students or staff above points of superfluous data collection or self protection</td>\n",
       "      <td>Negative</td>\n",
       "      <td>No opinion</td>\n",
       "      <td>Negative</td>\n",
       "      <td>2.0</td>\n",
       "      <td>2.0</td>\n",
       "      <td>1.0</td>\n",
       "      <td>1.0</td>\n",
       "      <td>1.0</td>\n",
       "      <td>NaN</td>\n",
       "      <td>Manor ISD</td>\n",
       "      <td>2021-01-05</td>\n",
       "      <td>6th Grade ELA Teacher</td>\n",
       "    </tr>\n",
       "  </tbody>\n",
       "</table>\n",
       "</div>"
      ],
      "text/plain": [
       "   overall_rating          review_title tenure_at_employer  \\\n",
       "0             3.0                  Good       Not provided   \n",
       "1             1.0  It's Only About Data       Under 1 year   \n",
       "\n",
       "                                                                                        pros  \\\n",
       "0                                              schedule accommodation free food during shift   \n",
       "1  the teachers at the school are great and really support each other during stressful times   \n",
       "\n",
       "                                                                                                                                                                                                                                                                                                                                                                                                                                                                                                                                                                                                                                                                                                                                                                                                               cons  \\\n",
       "0                                                                                                                                                                                                                                                                                                                                                                                                                                                                                                                                                                                                                                                                                                                                                                                fast food and management was rough   \n",
       "1  the school and the district has disappointing leadership who dont listen to the teachers and staff communication is terrible emails are sent on weekends for work to be done before monday instructions and expectations are unclear and then employees are disciplined for not meeting expectations methods of communication do not show basic understanding of good leadership skills or even basic constructive communication no support from administration when there are problems or difficulties everything is about data that is neither accurate nor useful though the district and administrators at the school claim to care about putting students first there is no part of their policies or actions that support students or staff above points of superfluous data collection or self protection   \n",
       "\n",
       "    recommend ceo_approval business_outlook  career_opportunities_rating  \\\n",
       "0  No opinion   No opinion       No opinion                          3.0   \n",
       "1    Negative   No opinion         Negative                          2.0   \n",
       "\n",
       "   comp_benefits_rating  senior_management_rating  work_life_rating  \\\n",
       "0                   3.0                       3.0               5.0   \n",
       "1                   2.0                       1.0               1.0   \n",
       "\n",
       "   culture_values_rating  diversity_inclusion_rating    company review_date  \\\n",
       "0                    3.0                         4.0   Chipotle  2022-07-18   \n",
       "1                    1.0                         NaN  Manor ISD  2021-01-05   \n",
       "\n",
       "                job_title  \n",
       "0                 Cashier  \n",
       "1   6th Grade ELA Teacher  "
      ]
     },
     "execution_count": 244,
     "metadata": {},
     "output_type": "execute_result"
    }
   ],
   "source": [
    "# Export to csv\n",
    "df.to_csv('cleaned_glassdoor_sample_data.csv', index=False)\n",
    "\n",
    "# Preview sample of new csv\n",
    "cleaned_sample = pd.read_csv('cleaned_glassdoor_sample_data.csv')\n",
    "print(cleaned_sample.shape)\n",
    "cleaned_sample.head(2)"
   ]
  }
 ],
 "metadata": {
  "kernelspec": {
   "display_name": "Python 3",
   "language": "python",
   "name": "python3"
  },
  "language_info": {
   "codemirror_mode": {
    "name": "ipython",
    "version": 3
   },
   "file_extension": ".py",
   "mimetype": "text/x-python",
   "name": "python",
   "nbconvert_exporter": "python",
   "pygments_lexer": "ipython3",
   "version": "3.12.4"
  }
 },
 "nbformat": 4,
 "nbformat_minor": 5
}
