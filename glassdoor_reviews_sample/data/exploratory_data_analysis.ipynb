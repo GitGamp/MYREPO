{
 "cells": [
  {
   "cell_type": "markdown",
   "id": "9179e7e4",
   "metadata": {},
   "source": [
    "#### Load data"
   ]
  },
  {
   "cell_type": "code",
   "execution_count": null,
   "id": "98c484ee",
   "metadata": {},
   "outputs": [],
   "source": [
    "import pandas as pd\n",
    "import numpy as np\n",
    "import matplotlib.pyplot as plt\n",
    "import seaborn as sns\n",
    "\n",
    "df = pd.read_csv('cleaned_glassdoor_sample_data.csv')"
   ]
  },
  {
   "cell_type": "code",
   "execution_count": null,
   "id": "aa7cc50a",
   "metadata": {},
   "outputs": [],
   "source": [
    "df.head(2)"
   ]
  },
  {
   "cell_type": "code",
   "execution_count": null,
   "id": "9623e613",
   "metadata": {},
   "outputs": [],
   "source": [
    "df.columns"
   ]
  },
  {
   "cell_type": "markdown",
   "id": "644c57e6",
   "metadata": {},
   "source": [
    "#### Rating columns review"
   ]
  },
  {
   "cell_type": "code",
   "execution_count": null,
   "id": "d50d1ebc",
   "metadata": {},
   "outputs": [],
   "source": [
    "# Ratings columns profiling\n",
    "ratings_cols = [\n",
    "    'overall_rating',\n",
    "    'career_opportunities_rating', \n",
    "    'comp_benefits_rating', \n",
    "    'senior_management_rating', \n",
    "    'work_life_rating', \n",
    "    'culture_values_rating', \n",
    "    'diversity_inclusion_rating']\n",
    "\n",
    "df[ratings_cols].info()\n",
    "df[ratings_cols].describe()"
   ]
  },
  {
   "cell_type": "code",
   "execution_count": null,
   "id": "6885ceb6",
   "metadata": {},
   "outputs": [],
   "source": [
    "# Unanswered rating categories\n",
    "\n",
    "unanswered = df[ratings_cols].isna().sum().to_frame(name='missing_count')\n",
    "unanswered['missing_proportion'] = unanswered['missing_count'] / len(df)\n",
    "unanswered"
   ]
  },
  {
   "cell_type": "code",
   "execution_count": null,
   "id": "dfd388f4",
   "metadata": {},
   "outputs": [],
   "source": [
    "# Distribution of Ratings per Category\n",
    "\n",
    "ax = df[ratings_cols].apply(pd.Series.value_counts).sort_index().T.plot(\n",
    "    kind='bar', stacked=True, figsize=(10, 6)\n",
    ")\n",
    "\n",
    "ax.set_xlabel('Rating Category')\n",
    "ax.set_ylabel('Count of Ratings')\n",
    "ax.set_title('Distribution of Ratings per Category')\n",
    "\n",
    "plt.xticks(rotation=30, ha='right')\n",
    "plt.legend(title='Rating', bbox_to_anchor=(1.05, 1), loc='upper left')\n",
    "plt.tight_layout()\n",
    "plt.show()"
   ]
  },
  {
   "cell_type": "code",
   "execution_count": null,
   "id": "8f49bcae",
   "metadata": {},
   "outputs": [],
   "source": [
    "# Average Rating by Category\n",
    "\n",
    "df[ratings_cols].mean().sort_values().plot(kind='barh')\n",
    "plt.xlabel('Average Rating')\n",
    "plt.title('Average Rating by Category')\n",
    "plt.tight_layout()\n",
    "plt.show()\n"
   ]
  },
  {
   "cell_type": "markdown",
   "id": "1530fee4",
   "metadata": {},
   "source": [
    "#### pros column"
   ]
  },
  {
   "cell_type": "code",
   "execution_count": null,
   "id": "c652355f",
   "metadata": {},
   "outputs": [],
   "source": [
    "df['pros'].head()"
   ]
  },
  {
   "cell_type": "code",
   "execution_count": null,
   "id": "57fe12cc",
   "metadata": {},
   "outputs": [],
   "source": [
    "df['pros'].isna().sum()"
   ]
  },
  {
   "cell_type": "code",
   "execution_count": null,
   "id": "5121f293",
   "metadata": {},
   "outputs": [],
   "source": [
    "df['pros'].str.len().describe()"
   ]
  },
  {
   "cell_type": "code",
   "execution_count": null,
   "id": "c4be5df5",
   "metadata": {},
   "outputs": [],
   "source": [
    "df.loc[df['pros'].str.len().idxmax(), 'pros']"
   ]
  },
  {
   "cell_type": "code",
   "execution_count": null,
   "id": "e567593a",
   "metadata": {},
   "outputs": [],
   "source": [
    "df[df['pros'].str.len() < 16]"
   ]
  }
 ],
 "metadata": {
  "kernelspec": {
   "display_name": "Python 3",
   "language": "python",
   "name": "python3"
  },
  "language_info": {
   "codemirror_mode": {
    "name": "ipython",
    "version": 3
   },
   "file_extension": ".py",
   "mimetype": "text/x-python",
   "name": "python",
   "nbconvert_exporter": "python",
   "pygments_lexer": "ipython3",
   "version": "3.12.4"
  }
 },
 "nbformat": 4,
 "nbformat_minor": 5
}
